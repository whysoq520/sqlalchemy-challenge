{
 "cells": [
  {
   "cell_type": "code",
   "execution_count": 1,
   "metadata": {},
   "outputs": [],
   "source": [
    "from flask import Flask, jsonify\n",
    "import numpy as np\n",
    "import pandas as pd\n",
    "import sqlalchemy\n",
    "\n",
    "from sqlalchemy.ext.automap import automap_base\n",
    "from sqlalchemy.orm import Session\n",
    "from sqlalchemy import create_engine, func"
   ]
  },
  {
   "cell_type": "code",
   "execution_count": 2,
   "metadata": {},
   "outputs": [
    {
     "data": {
      "text/plain": [
       "['measurement', 'station']"
      ]
     },
     "execution_count": 2,
     "metadata": {},
     "output_type": "execute_result"
    }
   ],
   "source": [
    "engine = create_engine(\"sqlite:///Resources/hawaii.sqlite\")\n",
    "Base = automap_base()\n",
    "Base.prepare(engine, reflect=True)\n",
    "Base.classes.keys()\n"
   ]
  },
  {
   "cell_type": "code",
   "execution_count": 4,
   "metadata": {},
   "outputs": [],
   "source": [
    "Measurement=Base.classes.measurement\n",
    "Station = Base.classes.station"
   ]
  },
  {
   "cell_type": "code",
   "execution_count": null,
   "metadata": {},
   "outputs": [],
   "source": [
    "# Flask Setup\n",
    "app = Flask(__name__)\n",
    "\n",
    "#List all routes that are available.\n",
    "@app.route(\"/\")\n",
    "def welcome():\n",
    "    return (\n",
    "        f\"Available Routes:<br/>\"\n",
    "        f\"/api/v1.0/precipitation<br/>\"\n",
    "        f\"/api/v1.0/stations<br/>\"\n",
    "        f\"/api/v1.0/tobs<br/>\"\n",
    "        f\"/api/v1.0/startdate<br/>\"\n",
    "        f\"/api/v1.0/<start>/<end>\"\n",
    "    )\n",
    "\n",
    "\n",
    "\n",
    "@app.route(\"/api/v1.0/precipitation\")\n",
    "def precipitation():\n",
    "    #query\n",
    "    session = Session(engine)\n",
    "    prcp=session.query(Measurement.date, Measurement.prcp).all\n",
    "    session.close()\n",
    "    #create dictionary\n",
    "    precipitation=[]\n",
    "    for date, prcp in result:\n",
    "        prcp_dict={date:prcp}\n",
    "        precipitation.append(dict)\n",
    "    return jsonify(precipitation)\n",
    "#using date as the key and prcp as the value.\n",
    "\n",
    "\n",
    "@app.route(\"/api/v1.0/stations\")\n",
    "def stations():\n",
    "    #query\n",
    "    session=Session(engine)\n",
    "    station=session.query(Measurement.station).all()\n",
    "    session.close()\n",
    "    all_stations = list(np.ravel(station))\n",
    "    session.close()\n",
    "\n",
    "    return jsonify(all_stations)\n",
    "\n",
    "\n",
    "@app.route(\"/api/v1.0/tobs\")\n",
    "def tobs():\n",
    "    #query\n",
    "    session = Session(engine)\n",
    "    latest_date = session.query(Measurement.date).order_by(Measurement.date.desc()).first()\n",
    "    year_ago =dt.date(2017,8,23)-dt.timedelta(days=365)\n",
    "  \n",
    "    results = session.query(Measurement.date,Measurement.tobs).\\\n",
    "    filter(Measurement.date<='2017-08-23').\\\n",
    "    filter(Measurement.date>='2016-08-23').all()\n",
    "    tobs_lastyear = list(np.ravel(results))\n",
    "    session.close()\n",
    "\n",
    "    return jsonify(tobs_lastyear)\n",
    "\n",
    "@app.route(\"/api/v1.0/startdate\")\n",
    "def weather(start_date):\n",
    "    session = Session(engine)\n",
    "    weather_condition = session.query(func.min(Measurement.tobs), func.avg(Measurement.tobs), func.max(Measurement.tobs)).\\\n",
    "        filter(Measurement.date >= start_date).all()\n",
    "    weather_since = list(np.ravel(weather_condition))\n",
    "    session.close() \n",
    "    return jsonify(weather_since)\n",
    "\n",
    "@app.route(\"/api/v1.0/<start>/<end>\")\n",
    "def weather(start_date, end_date):\n",
    "    session = Session(engine)\n",
    "    weather = session.query(func.min(Measurement.tobs), func.avg(Measurement.tobs), func.max(Measurement.tobs)).\\\n",
    "        filter(Measurement.date >= start_date).filter(Measurement.date <= end_date).all()\n",
    "    weather_betweendates = list(np.ravel(weather))\n",
    "        \n",
    "    return jsonify(weather_betweendates)\n",
    "    \n",
    "    \n",
    "@app.route(\"/api/v1.0/<start>/<end>\")\n",
    "def weather(start_date):\n",
    "       \n",
    "    return session.query(func.min(Measurement.tobs), func.avg(Measurement.tobs), func.max(Measurement.tobs)).\\\n",
    "        filter(Measurement.date >= start_date).all()\n",
    "\n",
    "def weather(start_date, end_date):\n",
    "    session.Session(engine)\n",
    "    if end_date =\"\":\n",
    "        w_start_date = session.query(func.min(Measurement.tobs), func.avg(Measurement.tobs), func.max(Measurement.tobs)).\\\n",
    "        filter(Measurement.date >= start_date).all()\n",
    "        \n",
    "        \n",
    "    return session.query(func.min(Measurement.tobs), func.avg(Measurement.tobs), func.max(Measurement.tobs)).\\\n",
    "        filter(Measurement.date >= start_date).filter(Measurement.date <= end_date).all()\n",
    "    "
   ]
  },
  {
   "cell_type": "code",
   "execution_count": null,
   "metadata": {},
   "outputs": [],
   "source": [
    "if __name__ == \"__main__\":\n",
    "    app.run(debug=True)"
   ]
  }
 ],
 "metadata": {
  "kernelspec": {
   "display_name": "Python 3",
   "language": "python",
   "name": "python3"
  },
  "language_info": {
   "codemirror_mode": {
    "name": "ipython",
    "version": 3
   },
   "file_extension": ".py",
   "mimetype": "text/x-python",
   "name": "python",
   "nbconvert_exporter": "python",
   "pygments_lexer": "ipython3",
   "version": "3.7.4"
  }
 },
 "nbformat": 4,
 "nbformat_minor": 2
}
